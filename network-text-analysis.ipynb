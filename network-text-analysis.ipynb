{
 "cells": [
  {
   "cell_type": "code",
   "execution_count": 1,
   "metadata": {
    "collapsed": true
   },
   "outputs": [],
   "source": [
    "import nltk\n",
    "import string\n",
    "from nltk.corpus import gutenberg\n",
    "from neo4j.v1 import GraphDatabase, basic_auth\n",
    "from nltk.stem import WordNetLemmatizer"
   ]
  },
  {
   "cell_type": "code",
   "execution_count": 2,
   "metadata": {},
   "outputs": [],
   "source": [
    "NEO4J_BOLT_URL = \"bolt://localhost:7687\"\n",
    "NEO4J_USERNAME = \"\"\n",
    "NEO4J_PASSWORD = \"\""
   ]
  },
  {
   "cell_type": "code",
   "execution_count": 3,
   "metadata": {},
   "outputs": [],
   "source": [
    "selected_sentences = gutenberg.sents(\"bible-kjv.txt\")"
   ]
  },
  {
   "cell_type": "code",
   "execution_count": 4,
   "metadata": {},
   "outputs": [],
   "source": [
    "def get_english_stopwords():\n",
    "    english_stopwords1 = \"a's able about above according accordingly across actually after afterwards again against ain't all allow allows almost alone along already also although always am among amongst an and another any anybody anyhow anyone anything anyway anyways anywhere apart appear appreciate appropriate are aren't around as aside ask asking associated at available away awfully be became because become becomes becoming been before beforehand behind being believe below beside besides best better between beyond both brief but by c'mon c's came can can't cannot cant cause causes certain certainly changes clearly co com come comes concerning consequently consider considering contain containing contains corresponding could couldn't course currently definitely described despite did didn't different do does doesn't doing don't done down downwards during each edu eg eight either else elsewhere enough entirely especially et etc even ever every everybody everyone everything everywhere ex exactly example except far few fifth first five followed following follows for former formerly forth four from further furthermore get gets getting given gives go goes going gone got gotten greetings had hadn't happens hardly has hasn't have haven't having he he's hello help hence her here here's hereafter hereby herein hereupon hers herself hi him himself his hither hopefully how howbeit however i'd i'll i'm i've ie if ignored immediate in inasmuch inc indeed indicate indicated indicates inner insofar instead into inward is isn't it it'd it'll it's its itself just keep keeps kept know known knows last lately later latter latterly least less lest let let's like liked likely little look looking looks ltd mainly many may maybe me mean meanwhile merely might more moreover most mostly much must my myself name namely nd near nearly necessary need needs neither never nevertheless new next nine no nobody non none noone nor normally not nothing novel now nowhere obviously of off often oh ok okay old on once one ones only onto or other others otherwise ought our ours ourselves out outside over overall own particular particularly per perhaps placed please plus possible presumably probably provides que quite qv rather rd re really reasonably regarding regardless regards relatively respectively right said same saw say saying says second secondly see seeing seem seemed seeming seems seen self selves sensible sent serious seriously seven several shall she should shouldn't since six so some somebody somehow someone something sometime sometimes somewhat somewhere soon sorry specified specify specifying still sub such sup sure t's take taken tell tends th than thank thanks thanx that that's thats the their theirs them themselves then thence there there's thereafter thereby therefore therein theres thereupon these they they'd they'll they're they've think third this thorough thoroughly those though three through throughout thru thus to together too took toward towards tried tries truly try trying twice two un under unfortunately unless unlikely until unto up upon us use used useful uses using usually value various very via viz vs want wants was wasn't way we we'd we'll we're we've welcome well went were weren't what what's whatever when whence whenever where where's whereafter whereas whereby wherein whereupon wherever whether which while whither who who's whoever whole whom whose why will willing wish with within without won't wonder would wouldn't yes yet you you'd you'll you're you've your yours yourself yourselves zero\".split(\" \")\n",
    "\n",
    "    # MySQL InnoDB full text search stopwords\n",
    "    english_stopwords2 = \"a,able,about,across,after,all,almost,also,am,among,an,and,any,are,as,at,be,because,been,but,by,can,cannot,could,dear,did,do,does,either,else,ever,every,for,from,get,got,had,has,have,he,her,hers,him,his,how,however,i,if,in,into,is,it,its,just,least,let,like,likely,may,me,might,most,must,my,neither,no,nor,not,of,off,often,on,only,or,other,our,own,rather,said,say,says,she,should,since,so,some,than,that,the,their,them,then,there,these,they,this,tis,to,too,twas,us,wants,was,we,were,what,when,where,which,while,who,whom,why,will,with,would,yet,you,your\".split(\",\")\n",
    "    return english_stopwords1 + english_stopwords2"
   ]
  },
  {
   "cell_type": "code",
   "execution_count": 5,
   "metadata": {},
   "outputs": [],
   "source": [
    "driver = GraphDatabase.driver(\"bolt://localhost:7687\", auth=basic_auth(NEO4J_USERNAME, NEO4J_PASSWORD))\n",
    "wordnet_lemmatizer = WordNetLemmatizer() \n",
    "puncuation = string.punctuation\n",
    "english_stopwords = get_english_stopwords()\n",
    "numbers = [\"0\", \"1\", \"2\", \"3\", \"4\", \"5\", \"6\", \"7\", \"8\", \"9\"]"
   ]
  },
  {
   "cell_type": "code",
   "execution_count": 6,
   "metadata": {},
   "outputs": [],
   "source": [
    "def create_constraint(tx):\n",
    "    tx.run(\"CREATE CONSTRAINT ON (w: Word) ASSERT w.name IS UNIQUE\")"
   ]
  },
  {
   "cell_type": "code",
   "execution_count": 7,
   "metadata": {},
   "outputs": [],
   "source": [
    "def generate_sentence_query(tx, sentence):\n",
    "    words = [word for word in sentence if word not in puncuation and word not in numbers]\n",
    "    normalized_words = [wordnet_lemmatizer.lemmatize((word).lower()) for word in words]\n",
    "    filtered_words = [word for word in normalized_words if word not in english_stopwords]\n",
    "    tx.run(\"WITH {sentence} AS text \"\n",
    "           \"UNWIND range(0, size(text)-2) AS i \"\n",
    "           \"MERGE (w1: Word {name: text[i]}) ON CREATE SET w1.count = 1 ON MATCH SET w1.count = w1.count + 1 \"\n",
    "           \"MERGE (w2: Word {name: text[i + 1]}) ON CREATE SET w2.count = 1 ON MATCH SET w2.count = w2.count + 1 \"\n",
    "           \"MERGE (w1)-[r:NEXT]->(w2) ON CREATE SET r.count = 1 ON MATCH SET r.count = r.count + 1 \",\n",
    "           sentence=filtered_words)"
   ]
  },
  {
   "cell_type": "code",
   "execution_count": 8,
   "metadata": {
    "scrolled": false
   },
   "outputs": [
    {
     "ename": "IndentationError",
     "evalue": "expected an indented block (<ipython-input-8-1d51b44709ea>, line 14)",
     "traceback": [
      "\u001b[0;36m  File \u001b[0;32m\"<ipython-input-8-1d51b44709ea>\"\u001b[0;36m, line \u001b[0;32m14\u001b[0m\n\u001b[0;31m    print(\"Ended insertion\")\u001b[0m\n\u001b[0m        ^\u001b[0m\n\u001b[0;31mIndentationError\u001b[0m\u001b[0;31m:\u001b[0m expected an indented block\n"
     ],
     "output_type": "error"
    }
   ],
   "source": [
    "print(\"Started insertion\")\n",
    "\n",
    "number_of_finished_queries = 0\n",
    "\n",
    "with driver.session() as session:\n",
    "    session.write_transaction(create_constraint)\n",
    "\n",
    "    for sentence in selected_sentences:\n",
    "        session.write_transaction(generate_sentence_query, sentence)\n",
    "        number_of_finished_queries = number_of_finished_queries + 1\n",
    "        if (number_of_finished_queries % 500 == 0):\n",
    "            print(number_of_finished_queries)\n",
    "        \n",
    "print(\"Ended insertion\")"
   ]
  },
  {
   "cell_type": "code",
   "execution_count": 9,
   "metadata": {},
   "outputs": [
    {
     "data": {
      "text/plain": [
       "[\"a's\",\n 'able',\n 'about',\n 'above',\n 'according',\n 'accordingly',\n 'across',\n 'actually',\n 'after',\n 'afterwards',\n 'again',\n 'against',\n \"ain't\",\n 'all',\n 'allow',\n 'allows',\n 'almost',\n 'alone',\n 'along',\n 'already',\n 'also',\n 'although',\n 'always',\n 'am',\n 'among',\n 'amongst',\n 'an',\n 'and',\n 'another',\n 'any',\n 'anybody',\n 'anyhow',\n 'anyone',\n 'anything',\n 'anyway',\n 'anyways',\n 'anywhere',\n 'apart',\n 'appear',\n 'appreciate',\n 'appropriate',\n 'are',\n \"aren't\",\n 'around',\n 'as',\n 'aside',\n 'ask',\n 'asking',\n 'associated',\n 'at',\n 'available',\n 'away',\n 'awfully',\n 'be',\n 'became',\n 'because',\n 'become',\n 'becomes',\n 'becoming',\n 'been',\n 'before',\n 'beforehand',\n 'behind',\n 'being',\n 'believe',\n 'below',\n 'beside',\n 'besides',\n 'best',\n 'better',\n 'between',\n 'beyond',\n 'both',\n 'brief',\n 'but',\n 'by',\n \"c'mon\",\n \"c's\",\n 'came',\n 'can',\n \"can't\",\n 'cannot',\n 'cant',\n 'cause',\n 'causes',\n 'certain',\n 'certainly',\n 'changes',\n 'clearly',\n 'co',\n 'com',\n 'come',\n 'comes',\n 'concerning',\n 'consequently',\n 'consider',\n 'considering',\n 'contain',\n 'containing',\n 'contains',\n 'corresponding',\n 'could',\n \"couldn't\",\n 'course',\n 'currently',\n 'definitely',\n 'described',\n 'despite',\n 'did',\n \"didn't\",\n 'different',\n 'do',\n 'does',\n \"doesn't\",\n 'doing',\n \"don't\",\n 'done',\n 'down',\n 'downwards',\n 'during',\n 'each',\n 'edu',\n 'eg',\n 'eight',\n 'either',\n 'else',\n 'elsewhere',\n 'enough',\n 'entirely',\n 'especially',\n 'et',\n 'etc',\n 'even',\n 'ever',\n 'every',\n 'everybody',\n 'everyone',\n 'everything',\n 'everywhere',\n 'ex',\n 'exactly',\n 'example',\n 'except',\n 'far',\n 'few',\n 'fifth',\n 'first',\n 'five',\n 'followed',\n 'following',\n 'follows',\n 'for',\n 'former',\n 'formerly',\n 'forth',\n 'four',\n 'from',\n 'further',\n 'furthermore',\n 'get',\n 'gets',\n 'getting',\n 'given',\n 'gives',\n 'go',\n 'goes',\n 'going',\n 'gone',\n 'got',\n 'gotten',\n 'greetings',\n 'had',\n \"hadn't\",\n 'happens',\n 'hardly',\n 'has',\n \"hasn't\",\n 'have',\n \"haven't\",\n 'having',\n 'he',\n \"he's\",\n 'hello',\n 'help',\n 'hence',\n 'her',\n 'here',\n \"here's\",\n 'hereafter',\n 'hereby',\n 'herein',\n 'hereupon',\n 'hers',\n 'herself',\n 'hi',\n 'him',\n 'himself',\n 'his',\n 'hither',\n 'hopefully',\n 'how',\n 'howbeit',\n 'however',\n \"i'd\",\n \"i'll\",\n \"i'm\",\n \"i've\",\n 'ie',\n 'if',\n 'ignored',\n 'immediate',\n 'in',\n 'inasmuch',\n 'inc',\n 'indeed',\n 'indicate',\n 'indicated',\n 'indicates',\n 'inner',\n 'insofar',\n 'instead',\n 'into',\n 'inward',\n 'is',\n \"isn't\",\n 'it',\n \"it'd\",\n \"it'll\",\n \"it's\",\n 'its',\n 'itself',\n 'just',\n 'keep',\n 'keeps',\n 'kept',\n 'know',\n 'known',\n 'knows',\n 'last',\n 'lately',\n 'later',\n 'latter',\n 'latterly',\n 'least',\n 'less',\n 'lest',\n 'let',\n \"let's\",\n 'like',\n 'liked',\n 'likely',\n 'little',\n 'look',\n 'looking',\n 'looks',\n 'ltd',\n 'mainly',\n 'many',\n 'may',\n 'maybe',\n 'me',\n 'mean',\n 'meanwhile',\n 'merely',\n 'might',\n 'more',\n 'moreover',\n 'most',\n 'mostly',\n 'much',\n 'must',\n 'my',\n 'myself',\n 'name',\n 'namely',\n 'nd',\n 'near',\n 'nearly',\n 'necessary',\n 'need',\n 'needs',\n 'neither',\n 'never',\n 'nevertheless',\n 'new',\n 'next',\n 'nine',\n 'no',\n 'nobody',\n 'non',\n 'none',\n 'noone',\n 'nor',\n 'normally',\n 'not',\n 'nothing',\n 'novel',\n 'now',\n 'nowhere',\n 'obviously',\n 'of',\n 'off',\n 'often',\n 'oh',\n 'ok',\n 'okay',\n 'old',\n 'on',\n 'once',\n 'one',\n 'ones',\n 'only',\n 'onto',\n 'or',\n 'other',\n 'others',\n 'otherwise',\n 'ought',\n 'our',\n 'ours',\n 'ourselves',\n 'out',\n 'outside',\n 'over',\n 'overall',\n 'own',\n 'particular',\n 'particularly',\n 'per',\n 'perhaps',\n 'placed',\n 'please',\n 'plus',\n 'possible',\n 'presumably',\n 'probably',\n 'provides',\n 'que',\n 'quite',\n 'qv',\n 'rather',\n 'rd',\n 're',\n 'really',\n 'reasonably',\n 'regarding',\n 'regardless',\n 'regards',\n 'relatively',\n 'respectively',\n 'right',\n 'said',\n 'same',\n 'saw',\n 'say',\n 'saying',\n 'says',\n 'second',\n 'secondly',\n 'see',\n 'seeing',\n 'seem',\n 'seemed',\n 'seeming',\n 'seems',\n 'seen',\n 'self',\n 'selves',\n 'sensible',\n 'sent',\n 'serious',\n 'seriously',\n 'seven',\n 'several',\n 'shall',\n 'she',\n 'should',\n \"shouldn't\",\n 'since',\n 'six',\n 'so',\n 'some',\n 'somebody',\n 'somehow',\n 'someone',\n 'something',\n 'sometime',\n 'sometimes',\n 'somewhat',\n 'somewhere',\n 'soon',\n 'sorry',\n 'specified',\n 'specify',\n 'specifying',\n 'still',\n 'sub',\n 'such',\n 'sup',\n 'sure',\n \"t's\",\n 'take',\n 'taken',\n 'tell',\n 'tends',\n 'th',\n 'than',\n 'thank',\n 'thanks',\n 'thanx',\n 'that',\n \"that's\",\n 'thats',\n 'the',\n 'their',\n 'theirs',\n 'them',\n 'themselves',\n 'then',\n 'thence',\n 'there',\n \"there's\",\n 'thereafter',\n 'thereby',\n 'therefore',\n 'therein',\n 'theres',\n 'thereupon',\n 'these',\n 'they',\n \"they'd\",\n \"they'll\",\n \"they're\",\n \"they've\",\n 'think',\n 'third',\n 'this',\n 'thorough',\n 'thoroughly',\n 'those',\n 'though',\n 'three',\n 'through',\n 'throughout',\n 'thru',\n 'thus',\n 'to',\n 'together',\n 'too',\n 'took',\n 'toward',\n 'towards',\n 'tried',\n 'tries',\n 'truly',\n 'try',\n 'trying',\n 'twice',\n 'two',\n 'un',\n 'under',\n 'unfortunately',\n 'unless',\n 'unlikely',\n 'until',\n 'unto',\n 'up',\n 'upon',\n 'us',\n 'use',\n 'used',\n 'useful',\n 'uses',\n 'using',\n 'usually',\n 'value',\n 'various',\n 'very',\n 'via',\n 'viz',\n 'vs',\n 'want',\n 'wants',\n 'was',\n \"wasn't\",\n 'way',\n 'we',\n \"we'd\",\n \"we'll\",\n \"we're\",\n \"we've\",\n 'welcome',\n 'well',\n 'went',\n 'were',\n \"weren't\",\n 'what',\n \"what's\",\n 'whatever',\n 'when',\n 'whence',\n 'whenever',\n 'where',\n \"where's\",\n 'whereafter',\n 'whereas',\n 'whereby',\n 'wherein',\n 'whereupon',\n 'wherever',\n 'whether',\n 'which',\n 'while',\n 'whither',\n 'who',\n \"who's\",\n 'whoever',\n 'whole',\n 'whom',\n 'whose',\n 'why',\n 'will',\n 'willing',\n 'wish',\n 'with',\n 'within',\n 'without',\n \"won't\",\n 'wonder',\n 'would',\n \"wouldn't\",\n 'yes',\n 'yet',\n 'you',\n \"you'd\",\n \"you'll\",\n \"you're\",\n \"you've\",\n 'your',\n 'yours',\n 'yourself',\n 'yourselves',\n 'zero',\n 'a',\n 'able',\n 'about',\n 'across',\n 'after',\n 'all',\n 'almost',\n 'also',\n 'am',\n 'among',\n 'an',\n 'and',\n 'any',\n 'are',\n 'as',\n 'at',\n 'be',\n 'because',\n 'been',\n 'but',\n 'by',\n 'can',\n 'cannot',\n 'could',\n 'dear',\n 'did',\n 'do',\n 'does',\n 'either',\n 'else',\n 'ever',\n 'every',\n 'for',\n 'from',\n 'get',\n 'got',\n 'had',\n 'has',\n 'have',\n 'he',\n 'her',\n 'hers',\n 'him',\n 'his',\n 'how',\n 'however',\n 'i',\n 'if',\n 'in',\n 'into',\n 'is',\n 'it',\n 'its',\n 'just',\n 'least',\n 'let',\n 'like',\n 'likely',\n 'may',\n 'me',\n 'might',\n 'most',\n 'must',\n 'my',\n 'neither',\n 'no',\n 'nor',\n 'not',\n 'of',\n 'off',\n 'often',\n 'on',\n 'only',\n 'or',\n 'other',\n 'our',\n 'own',\n 'rather',\n 'said',\n 'say',\n 'says',\n 'she',\n 'should',\n 'since',\n 'so',\n 'some',\n 'than',\n 'that',\n 'the',\n 'their',\n 'them',\n 'then',\n 'there',\n 'these',\n 'they',\n 'this',\n 'tis',\n 'to',\n 'too',\n 'twas',\n 'us',\n 'wants',\n 'was',\n 'we',\n 'were',\n 'what',\n 'when',\n 'where',\n 'which',\n 'while',\n 'who',\n 'whom',\n 'why',\n 'will',\n 'with',\n 'would',\n 'yet',\n 'you',\n 'your']"
      ]
     },
     "execution_count": 9,
     "metadata": {},
     "output_type": "execute_result"
    }
   ],
   "source": [
    "english_stopwords"
   ]
  },
  {
   "cell_type": "code",
   "execution_count": null,
   "metadata": {},
   "outputs": [],
   "source": [
    ""
   ]
  }
 ],
 "metadata": {
  "kernelspec": {
   "display_name": "Python 3",
   "language": "python",
   "name": "python3"
  },
  "language_info": {
   "codemirror_mode": {
    "name": "ipython",
    "version": 3.0
   },
   "file_extension": ".py",
   "mimetype": "text/x-python",
   "name": "python",
   "nbconvert_exporter": "python",
   "pygments_lexer": "ipython3",
   "version": "3.6.1"
  }
 },
 "nbformat": 4,
 "nbformat_minor": 0
}